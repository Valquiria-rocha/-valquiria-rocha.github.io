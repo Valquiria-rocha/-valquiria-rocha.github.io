{
  "nbformat": 4,
  "nbformat_minor": 0,
  "metadata": {
    "colab": {
      "provenance": [],
      "authorship_tag": "ABX9TyOXFiCiC/fsKRoOcukWemIl",
      "include_colab_link": true
    },
    "kernelspec": {
      "name": "python3",
      "display_name": "Python 3"
    },
    "language_info": {
      "name": "python"
    }
  },
  "cells": [
    {
      "cell_type": "markdown",
      "metadata": {
        "id": "view-in-github",
        "colab_type": "text"
      },
      "source": [
        "<a href=\"https://colab.research.google.com/github/Valquiria-rocha/-valquiria-rocha.github.io/blob/main/Untitled1.ipynb\" target=\"_parent\"><img src=\"https://colab.research.google.com/assets/colab-badge.svg\" alt=\"Open In Colab\"/></a>"
      ]
    },
    {
      "cell_type": "code",
      "source": [
        "import numpy as np\n",
        "from sklearn.linear_model import LogisticRegression\n",
        "from sklearn.model_selection import train_test_split\n",
        "from sklearn.metrics import accuracy_score\n",
        "\n",
        "# Gerando dados simulados:\n",
        "# Número de horas semanais dedicadas a atividades físicas (x) e risco de doença cardíaca (y)\n",
        "# 0 = não está em risco, 1 = está em risco\n",
        "x = np.array([1, 2, 3, 4, 5, 6, 7, 8, 9, 10, 11, 12, 13, 14, 15,\n",
        "              16, 17, 18, 19, 20]).reshape(-1, 1)\n",
        "y = np.array([1, 1, 1, 0, 0, 0, 0, 0, 1, 1, 1, 0, 0, 0, 0,\n",
        "              0, 1, 1, 1, 1])  # 1: risco, 0: sem risco\n",
        "\n",
        "# Dividindo os dados em conjunto de treino e teste (70% treino, 30% teste)\n",
        "x_train, x_test, y_train, y_test = train_test_split(x, y, test_size=0.3, random_state=42)\n",
        "\n",
        "# Criando o modelo de regressão logística\n",
        "model = LogisticRegression()\n",
        "\n",
        "# Treinando o modelo com os dados de treino\n",
        "model.fit(x_train, y_train)\n",
        "\n",
        "# Fazendo previsões com o conjunto de teste\n",
        "y_pred = model.predict(x_test)\n",
        "\n",
        "# Calculando a acurácia do modelo\n",
        "accuracy = accuracy_score(y_test, y_pred)\n",
        "\n",
        "# Exibindo o resultado\n",
        "print(f\"Acurácia do modelo: {accuracy*100:.2f}%\")\n",
        "\n",
        "# Exibindo as previsões feitas pelo modelo\n",
        "print(\"\\nPrevisões feitas pelo modelo:\")\n",
        "print(y_pred)\n",
        "\n",
        "# Exibindo os valores reais\n",
        "print(\"\\nValores reais:\")\n",
        "print(y_test)\n"
      ],
      "metadata": {
        "colab": {
          "base_uri": "https://localhost:8080/"
        },
        "id": "L-RLqnLifq2k",
        "outputId": "d046fb7a-8780-4486-caae-5a6e33728ee1"
      },
      "execution_count": null,
      "outputs": [
        {
          "output_type": "stream",
          "name": "stdout",
          "text": [
            "Acurácia do modelo: 33.33%\n",
            "\n",
            "Previsões feitas pelo modelo:\n",
            "[0 1 1 0 0 0]\n",
            "\n",
            "Valores reais:\n",
            "[1 1 0 1 1 0]\n"
          ]
        }
      ]
    }
  ]
}